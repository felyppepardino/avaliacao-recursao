{
  "nbformat": 4,
  "nbformat_minor": 0,
  "metadata": {
    "colab": {
      "provenance": [],
      "include_colab_link": true
    },
    "kernelspec": {
      "name": "python3",
      "display_name": "Python 3"
    },
    "language_info": {
      "name": "python"
    }
  },
  "cells": [
    {
      "cell_type": "markdown",
      "metadata": {
        "id": "view-in-github",
        "colab_type": "text"
      },
      "source": [
        "<a href=\"https://colab.research.google.com/github/felyppepardino/avaliacao-recursao/blob/main/C%C3%B3pia_de_RA1_Individual_Segunda_2024_1_Felyppe.ipynb\" target=\"_parent\"><img src=\"https://colab.research.google.com/assets/colab-badge.svg\" alt=\"Open In Colab\"/></a>"
      ]
    },
    {
      "cell_type": "markdown",
      "source": [
        "# Avaliação em INDIVIDUAL RA1 - 2024-1\n",
        "\n",
        "**Antes de começar, leia estas instruções cuidadosamente.**\n",
        "Esta avaliação é individual. Você poderá consultar qualquer fonte disponível na biblioteca, suas anotações ou na internet. Mas, não poderá consultar outras pessoas.\n",
        "\n",
        "Não existirão prorrogações de prazo de entrega.\n",
        "\n",
        "Trabalhos idênticos entregues por pessoas, diferentes, serão anulados.\n",
        "\n",
        "Todos os trabalhos serão entregues em uma cópia deste caderno de atividades na forma de um link postado no AVA da instituição (Canvas). Todos os enunciados devem ser preservados e você deverá inserir uma célula de textos com o **seu nome**, logo após esta célula de texto de instruções.\n",
        "\n",
        "Qualquer alteração do caderno contendo as suas respostas que seja registrada após a data de postagem provocará a anulação da avaliação.\n",
        "\n",
        "Você poderá usar, neste notebook, apenas a linguagem python limitada ao uso das seguintes bibliotecas: numpy, sympy, matplotlib, ipWidgets e IPython. Todo e qualquer gráfico deverá ser criado usando o Python.\n",
        "\n",
        "Entrega será realizada com a postagem de um link para um ambiente de execução, no AVA da institução. Neste link o seu caderno deve permitir ser executado (permissão de leitor). Serão aceitos links diretos ao ambiente do Google Colaboratory, ou Links a um caderno do Google Colaboratory que tenha sido salvo pelo próprio Google Colaboratory no GitHub. Links para outro ambiente, ou que requeiram qualquer tipo de download, cliques extras, ou ainda, que requeiram aprovação para acesso, provocarão a nota zero na avaliação.\n",
        "\n",
        "Para salvar a avaliação no GitHub, clique no menu _Arquivo_ e escolha a opção _Salvar uma Cópia no Github_. Para que isso funcione você precisa ter um repositório no Github. O link que você irá compartilhar será a url da página que o próprio Gooble Colab irá abrir depois de salvar suas respostas no Github.\n",
        "\n",
        "Se você encontrar algo errado nesta avaliação simplesmente anote suas observações na própria questão. Suas observações serão consideradas durante a avaliação e, em caso de pertinência, poderão encejar a anulação do item, ou da questão, a critério do professor.\n",
        "\n",
        "Não é permitido usar qualquer técnica matemática baseada em derivação, ou que fuja dos conteúdos apresenados em aula referente ao estudo de limites. Você pode usar a fórmula das diferenças finitas e todas as regras e identidades algébricas que sejam pertinentes ao cálculo de limites.\n",
        "\n",
        "**Lembrem-se a interpretação faz parte da questão.**"
      ],
      "metadata": {
        "id": "IYWLM47FgvAt"
      }
    },
    {
      "cell_type": "markdown",
      "source": [
        "**Aluno:** Felyppe Pardino da Silva"
      ],
      "metadata": {
        "id": "awcwMNlbrYld"
      }
    },
    {
      "cell_type": "markdown",
      "source": [
        "## Questões\n",
        "\n",
        "Usando apenas álgebra encontre o limites solicitados a seguir e faça uma análise do resultado encontrados. Para fazer a análise você pode usar as ferramentas que desejar, desde que seja possível verificar a validade das suas afirmações usando apenas este caderno de avaliação.\n",
        "\n",
        "Lembre-se você deve usar notação matemática na sua resposta e todo o desenvolvimento deve estar explicitado (passo a passo). O que implica na obrigatoriedade do uso de Latex neste caderno de avaliação.\n",
        "\n",
        "Observe que o cálculo do valor do limite, usando uma calculadora, site, ou ferramenta qualquer, por si só não pode ser usado como argumento na sua análise. Isso quer dizer que justificativas como o limite é $w$ porque qualquer disse que era esse valor ou o limte é $w$ porque eu calculei usando o sympy, não serão aceitas.\n",
        "\n",
        "1. **Primeira Questão:**\n",
        "\n",
        "   $$\\lim_{{x \\to 0}} \\frac{1 - \\cos(x)}{x^2}$$\n",
        "\n",
        "2. **Segunda Questão:**\n",
        "\n",
        "   $$\\lim_{{x \\to 1}} \\frac{\\sqrt{x + 8} - 3}{x^2 - 1}$$\n",
        "\n",
        "3. **Terceira Questão:**\n",
        "  \n",
        "  $$\\lim_{h \\to 0} \\frac{(2 + h)^3 - 8}{h}$$\n",
        "\n",
        "4. **Quarta Questão:**\n",
        "  \n",
        "  $$\\lim_{t \\to 0} \\left( \\frac{1}{t\\sqrt{t + 1}} - \\frac{1}{t} \\right)$$\n",
        "\n",
        "**Rúbrica de avaliação**: cada limite corretamente determinado com a algebra demonstrada em notação matemática 1 ponto; cada análise consistente 1,5 pontos. Total 2.5 pontos por questão implicando em, no máximo 10 pontos."
      ],
      "metadata": {
        "id": "Hffk6Rtmhaga"
      }
    },
    {
      "cell_type": "markdown",
      "source": [
        "## 1.\n",
        "\n",
        "$$\\lim_{{x \\to 0}} \\frac{1 - \\cos(x)}{x^2}$$\n",
        "\n",
        "### Substituicao:\n",
        "\n",
        "$$\\lim_{{x \\to 0}} \\frac{1 - \\cos(0)}{0^2} = \\frac{1 - 1}{0} = \\frac{0}{0}$$"
      ],
      "metadata": {
        "id": "C_Y1qh7yulZe"
      }
    },
    {
      "cell_type": "markdown",
      "source": [
        "## 2.\n",
        "\n",
        "$$\\lim_{{x \\to 1}} \\frac{\\sqrt{x + 8} - 3}{x^2 - 1}$$\n",
        "\n",
        "### Substituicao:\n",
        "\n",
        "$$\\lim_{{x \\to 1}} \\frac{\\sqrt{1 + 8} - 3}{1^2 - 1} = \\frac{\\sqrt{9} - 3}{1 - 1} = \\frac{0}{0}$$\n",
        "\n",
        "Resulta em indeterminacao. Teremos que fazer racionalizacao, multiplicando tanto o numerador quanto o denominador pela conjugada do numerador.\n",
        "\n",
        "$$\\lim_{{x \\to 1}} \\frac{\\sqrt{x + 8} - 3}{x^2 - 1} = \\frac{(\\sqrt{x + 8} - 3)(\\sqrt{x + 8} + 3)}{(x^2 - 1)(\\sqrt{x + 8} + 3)}  $$\n",
        "\n",
        "Temos:\n",
        "\n",
        "$$\\lim_{{x \\to 1}} \\frac{(\\sqrt{x + 8})^2 - 3^2}{(x^2 - 1)(\\sqrt{x + 8} + 3)} = \\frac{(x + 8) - 9}{(x^2 - 1)(\\sqrt{x + 8} + 3)} = \\frac{x - 1}{(x^2 - 1)(\\sqrt{x + 8} + 3)}$$\n",
        "\n",
        "Simplificando:\n",
        "\n",
        "$$\\lim_{{x \\to 1}} \\frac{x -1}{(x -1)(x+1)(\\sqrt{x + 8} + 3)} = \\frac{1}{(x + 1)(\\sqrt{x + 8} + 3)}$$\n",
        "\n",
        "Agora, para finalizar:\n",
        "\n",
        "$$\\lim_{{x \\to 1}} \\frac{1}{(x + 1)(\\sqrt{x + 8} + 3)} = \\frac{1}{(1 + 1)(\\sqrt{1 + 8} + 3)} = \\frac{1}{2(\\sqrt{9} + 3)} = \\frac{1}{12}$$\n",
        "\n",
        "Portanto:\n",
        "\n",
        "$$\\lim_{{x \\to 1}} \\frac{\\sqrt{x + 8} - 3}{x^2 - 1} = \\frac{1}{12}$$"
      ],
      "metadata": {
        "id": "QPIzkhAYruld"
      }
    },
    {
      "cell_type": "code",
      "source": [
        "import sympy as sym\n",
        "\n",
        "x = sym.symbols('x')\n",
        "\n",
        "eq = (sym.sqrt(x + 8) - 3) / (x**2 - 1)\n",
        "\n",
        "# Checando se o limite encontrado está correto\n",
        "sym.limit(eq, x, 1)"
      ],
      "metadata": {
        "colab": {
          "base_uri": "https://localhost:8080/",
          "height": 51
        },
        "id": "rzEO76NV7JvL",
        "outputId": "db1d8841-cb90-4c28-c0ae-b8f777311a01"
      },
      "execution_count": 15,
      "outputs": [
        {
          "output_type": "execute_result",
          "data": {
            "text/plain": [
              "1/12"
            ],
            "text/latex": "$\\displaystyle \\frac{1}{12}$"
          },
          "metadata": {},
          "execution_count": 15
        }
      ]
    },
    {
      "cell_type": "markdown",
      "source": [
        "## 3.\n",
        "\n",
        "$$\\lim_{h \\to 0} \\frac{(2 + h)^3 - 8}{h}$$\n",
        "\n",
        "### Substituicao direta:\n",
        "\n",
        "$$\\lim_{h \\to 0} \\frac{(2 + 0)^3 - 8}{0} = \\frac{2^3 - 8}{0} = \\frac{0}{0}$$\n",
        "\n",
        "Podemos ver que resulta em indeterminacao se aplicarmos diretamente a substituicao. Podemos optar entao por expandir o numerador.\n",
        "\n",
        "$$\\lim_{h \\to 0}$$"
      ],
      "metadata": {
        "id": "DQsDKek1t7gg"
      }
    },
    {
      "cell_type": "code",
      "source": [
        "import sympy as sym\n",
        "\n",
        "h = sym.symbols('h')\n",
        "\n",
        "eq = (((2 + h)**3 - 8) / (h))\n",
        "\n",
        "# Checando o limite\n",
        "sym.limit(eq, h, 0)"
      ],
      "metadata": {
        "colab": {
          "base_uri": "https://localhost:8080/",
          "height": 37
        },
        "id": "e2kMCsDx7uBy",
        "outputId": "1c5ed333-8958-4f8f-8bff-279712e1c6ae"
      },
      "execution_count": 23,
      "outputs": [
        {
          "output_type": "execute_result",
          "data": {
            "text/plain": [
              "12"
            ],
            "text/latex": "$\\displaystyle 12$"
          },
          "metadata": {},
          "execution_count": 23
        }
      ]
    },
    {
      "cell_type": "markdown",
      "source": [
        "## 4.\n",
        "\n",
        "$$\\lim_{t \\to 0} \\left( \\frac{1}{t\\sqrt{t + 1}} - \\frac{1}{t} \\right)$$\n",
        "\n",
        "### Substituicao:\n",
        "\n",
        "$$\\lim_{t \\to 0} \\left( \\frac{1}{0\\sqrt{0 + 1}} - \\frac{1}{0} \\right) = \\frac{1}{0} - \\frac{1}{0} = \\frac{0}{0}$$"
      ],
      "metadata": {
        "id": "l6eCclAQvWZ-"
      }
    }
  ]
}